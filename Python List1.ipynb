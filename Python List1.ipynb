{
 "cells": [
  {
   "cell_type": "markdown",
   "id": "00f23925-8b45-4f8b-8e97-e8dab32cc1f4",
   "metadata": {},
   "source": [
    "### Python List"
   ]
  },
  {
   "cell_type": "markdown",
   "id": "1c1001fe-74b1-4829-a8a1-50b2c0e5f1be",
   "metadata": {},
   "source": [
    "1. How do you create an empty list in Python?"
   ]
  },
  {
   "cell_type": "code",
   "execution_count": 2,
   "id": "4a86c1c5-6d81-444a-9ae2-d66c847fdb85",
   "metadata": {},
   "outputs": [
    {
     "name": "stdout",
     "output_type": "stream",
     "text": [
      "[]\n"
     ]
    }
   ],
   "source": [
    "l = list()\n",
    "print(l)"
   ]
  },
  {
   "cell_type": "code",
   "execution_count": 3,
   "id": "45c62552-a56a-48b2-b0a9-582650483a98",
   "metadata": {},
   "outputs": [
    {
     "name": "stdout",
     "output_type": "stream",
     "text": [
      "[]\n"
     ]
    }
   ],
   "source": [
    "s = []\n",
    "print(s)"
   ]
  },
  {
   "cell_type": "markdown",
   "id": "cd06d1b7-fc5c-411a-b9d1-a62463e67947",
   "metadata": {},
   "source": [
    "2. How do you create a list with integers?"
   ]
  },
  {
   "cell_type": "code",
   "execution_count": 5,
   "id": "a8a6ad3c-7d99-4939-9a0a-13e4ba600816",
   "metadata": {},
   "outputs": [
    {
     "name": "stdout",
     "output_type": "stream",
     "text": [
      "[1, 2, 3, 4, 5]\n"
     ]
    }
   ],
   "source": [
    "number = [1,2,3,4,5]\n",
    "print(number)"
   ]
  },
  {
   "cell_type": "code",
   "execution_count": 6,
   "id": "b43adce5-fd66-4f8c-a0ff-15e8dac78e07",
   "metadata": {},
   "outputs": [
    {
     "name": "stdout",
     "output_type": "stream",
     "text": [
      "[0, 1, 2, 3, 4, 5, 6, 7, 8, 9]\n"
     ]
    }
   ],
   "source": [
    "num = list(range(10))\n",
    "print(num)"
   ]
  },
  {
   "cell_type": "markdown",
   "id": "65361d40-74d6-46e1-9bb6-b9abcff4e27d",
   "metadata": {},
   "source": [
    "3. How do you create a list with mixed data types (e.g., integers, strings, etc.)?"
   ]
  },
  {
   "cell_type": "code",
   "execution_count": 9,
   "id": "0dc516fd-8bf9-4143-8539-3fb068d9dc7c",
   "metadata": {},
   "outputs": [
    {
     "name": "stdout",
     "output_type": "stream",
     "text": [
      "[1, 2, 'text', 'apple', 5, 3.14, True]\n"
     ]
    }
   ],
   "source": [
    "list = [1,2,\"text\",\"apple\",5,3.14,True]\n",
    "print(list)"
   ]
  },
  {
   "cell_type": "markdown",
   "id": "4e3bcea1-77cd-476c-8f20-10a6fc35360a",
   "metadata": {},
   "source": [
    "4. How do you access the first element of a list in Python?"
   ]
  },
  {
   "cell_type": "code",
   "execution_count": 10,
   "id": "b694da5b-dfe3-4ce2-8eab-f3ff5b4d1304",
   "metadata": {},
   "outputs": [
    {
     "name": "stdout",
     "output_type": "stream",
     "text": [
      "3\n"
     ]
    }
   ],
   "source": [
    "number = [3,5,1]\n",
    "\n",
    "print(number[0])"
   ]
  },
  {
   "cell_type": "markdown",
   "id": "203bcf73-7c0d-4673-9532-89e8b66979dc",
   "metadata": {},
   "source": [
    "5. How do you access the last element of a list in Python?"
   ]
  },
  {
   "cell_type": "code",
   "execution_count": 12,
   "id": "584961dc-e74a-4d98-9d14-b27781b29979",
   "metadata": {},
   "outputs": [
    {
     "name": "stdout",
     "output_type": "stream",
     "text": [
      "1\n"
     ]
    }
   ],
   "source": [
    "number = [3,5,1]\n",
    "print(number[-1])"
   ]
  },
  {
   "cell_type": "markdown",
   "id": "3d33fcbf-bfa9-4efe-a07a-beef35b755bc",
   "metadata": {},
   "source": [
    "6. How do you add an element to a list using the append() method?"
   ]
  },
  {
   "cell_type": "code",
   "execution_count": 15,
   "id": "d59e118c-4eae-4e98-9e68-7200bc159f09",
   "metadata": {},
   "outputs": [
    {
     "name": "stdout",
     "output_type": "stream",
     "text": [
      "[3, 4, 5, 6, 7, 8]\n"
     ]
    }
   ],
   "source": [
    "## The append() method adds the element at the end of the list.\n",
    "\n",
    "list = [3,4,5,6,7]\n",
    "\n",
    "list.append(8)\n",
    "print(list)"
   ]
  },
  {
   "cell_type": "markdown",
   "id": "daddaf0d-ac0c-4879-81ba-b12eebd738b1",
   "metadata": {},
   "source": [
    "7. How do you insert an element at a specific index in a list?"
   ]
  },
  {
   "cell_type": "code",
   "execution_count": 16,
   "id": "a6ee398d-216a-4b74-8d35-f263c38b06e1",
   "metadata": {},
   "outputs": [
    {
     "name": "stdout",
     "output_type": "stream",
     "text": [
      "[3, 4, 4.5, 5, 6, 7]\n"
     ]
    }
   ],
   "source": [
    "list = [3,4,5,6,7]\n",
    "list.insert(2,4.5)\n",
    "print(list)"
   ]
  },
  {
   "cell_type": "markdown",
   "id": "21f56bac-fb9c-46e9-82fb-4c8852997cc7",
   "metadata": {},
   "source": [
    "8. How do you remove the first occurrence of an element in a list?"
   ]
  },
  {
   "cell_type": "code",
   "execution_count": 17,
   "id": "459418cc-357c-449c-a9b7-f743cb48b0a4",
   "metadata": {},
   "outputs": [
    {
     "name": "stdout",
     "output_type": "stream",
     "text": [
      "[3, 5, 4, 6, 7]\n"
     ]
    }
   ],
   "source": [
    "list = [3,4,5,4,6,7]\n",
    "list.remove(4)\n",
    "print(list)"
   ]
  },
  {
   "cell_type": "markdown",
   "id": "4953b47e-5cfd-468f-ac3d-8ad98b591ad1",
   "metadata": {},
   "source": [
    "9. How do you find the length of a list in Python?"
   ]
  },
  {
   "cell_type": "code",
   "execution_count": 18,
   "id": "46593622-0cfe-4d65-9183-ee5a8fd6791e",
   "metadata": {},
   "outputs": [
    {
     "name": "stdout",
     "output_type": "stream",
     "text": [
      "4\n"
     ]
    }
   ],
   "source": [
    "list = [23,56,11,10]\n",
    "print(len(list))"
   ]
  },
  {
   "cell_type": "markdown",
   "id": "4232c4be-8182-46a9-991f-489819f774e0",
   "metadata": {},
   "source": [
    "10. How do you print all elements of a list using a loop?"
   ]
  },
  {
   "cell_type": "code",
   "execution_count": 19,
   "id": "61c762fc-3b69-4eed-90f2-0a9d9c348f65",
   "metadata": {},
   "outputs": [
    {
     "name": "stdout",
     "output_type": "stream",
     "text": [
      "Apple\n",
      "Mango\n",
      "Banana\n"
     ]
    }
   ],
   "source": [
    "item = [\"Apple\",\"Mango\",\"Banana\"]\n",
    "for i in item:\n",
    "    print(i)"
   ]
  },
  {
   "cell_type": "markdown",
   "id": "6b6408d7-13e6-4f62-8539-4388af48572f",
   "metadata": {},
   "source": [
    "11. How do you update an element at a specific index in a list?"
   ]
  },
  {
   "cell_type": "code",
   "execution_count": 20,
   "id": "9f72bd9e-c96c-44e8-b4ba-40c9454c444d",
   "metadata": {},
   "outputs": [
    {
     "name": "stdout",
     "output_type": "stream",
     "text": [
      "['Apple', 'Grapes', 'Banana']\n"
     ]
    }
   ],
   "source": [
    "item = [\"Apple\",\"Mango\",\"Banana\"]\n",
    "item[1] = \"Grapes\"\n",
    "print(item)"
   ]
  },
  {
   "cell_type": "markdown",
   "id": "389a25a7-1b96-45c0-850c-2f3915bfd528",
   "metadata": {},
   "source": [
    "12. How do you check if an element exists in a list using the in keyword?"
   ]
  },
  {
   "cell_type": "code",
   "execution_count": 26,
   "id": "91603748-01be-42fe-870a-9f67ad6bc055",
   "metadata": {},
   "outputs": [
    {
     "name": "stdout",
     "output_type": "stream",
     "text": [
      "Apple is there\n"
     ]
    }
   ],
   "source": [
    "item = [\"Apple\",\"Mango\",\"Banana\"]\n",
    "if Apple in item:\n",
    "    print(\"Apple is there\")"
   ]
  },
  {
   "cell_type": "markdown",
   "id": "e8f0dc25-352b-4bef-8c70-a44bd2b4232f",
   "metadata": {},
   "source": [
    "13. How do you remove an element from a list using the pop() method?"
   ]
  },
  {
   "cell_type": "code",
   "execution_count": 27,
   "id": "434b758b-7e4a-4eeb-a4b5-70d715c3dca8",
   "metadata": {},
   "outputs": [
    {
     "name": "stdout",
     "output_type": "stream",
     "text": [
      "['Apple', 'Mango']\n"
     ]
    }
   ],
   "source": [
    "item = [\"Apple\",\"Mango\",\"Banana\"]\n",
    "item.pop(2)\n",
    "print(item)"
   ]
  },
  {
   "cell_type": "markdown",
   "id": "bcfcba19-18b1-40bb-a787-d86a23fc0d40",
   "metadata": {},
   "source": [
    "14. How do you remove all elements from a list?"
   ]
  },
  {
   "cell_type": "code",
   "execution_count": 28,
   "id": "9ff6a121-9b6a-45e1-a930-f21b08b8dc4a",
   "metadata": {},
   "outputs": [
    {
     "name": "stdout",
     "output_type": "stream",
     "text": [
      "[]\n"
     ]
    }
   ],
   "source": [
    "item = [\"Apple\",\"Mango\",\"Banana\"]\n",
    "item.clear()\n",
    "print(item)"
   ]
  },
  {
   "cell_type": "markdown",
   "id": "5fe75c86-f395-4c68-88c3-94fa9876abfc",
   "metadata": {},
   "source": [
    "15. How do you reverse a list in Python?"
   ]
  },
  {
   "cell_type": "code",
   "execution_count": 29,
   "id": "402e5955-04ec-46ec-ba64-b0609968b933",
   "metadata": {},
   "outputs": [
    {
     "name": "stdout",
     "output_type": "stream",
     "text": [
      "['Banana', 'Mango', 'Apple']\n"
     ]
    }
   ],
   "source": [
    "## using reverse \n",
    "\n",
    "item = [\"Apple\",\"Mango\",\"Banana\"]\n",
    "item.reverse()\n",
    "print(item)"
   ]
  },
  {
   "cell_type": "code",
   "execution_count": 31,
   "id": "4a046e15-996a-4273-bf25-42d13a04ef85",
   "metadata": {},
   "outputs": [
    {
     "name": "stdout",
     "output_type": "stream",
     "text": [
      "['Banana', 'Mango', 'Apple']\n"
     ]
    }
   ],
   "source": [
    "## using slicing\n",
    "\n",
    "items = [\"Apple\",\"Mango\",\"Banana\"]\n",
    "reverse = items[::-1]\n",
    "print(reverse)"
   ]
  },
  {
   "cell_type": "markdown",
   "id": "ad4b7d05-1cae-46a4-a3b8-348f22d0afd8",
   "metadata": {},
   "source": [
    "16. How do you sort a list in ascending order?"
   ]
  },
  {
   "cell_type": "code",
   "execution_count": 34,
   "id": "7149c379-7840-4684-bd2f-e6b267a8c69d",
   "metadata": {},
   "outputs": [
    {
     "name": "stdout",
     "output_type": "stream",
     "text": [
      "[1, 2, 3, 4, 5]\n"
     ]
    }
   ],
   "source": [
    "## using sort()\n",
    "list = [2,1,5,3,4]\n",
    "list.sort()\n",
    "\n",
    "print(list)"
   ]
  },
  {
   "cell_type": "code",
   "execution_count": 36,
   "id": "554c368e-59ea-4219-96ac-05685b2b429f",
   "metadata": {},
   "outputs": [
    {
     "name": "stdout",
     "output_type": "stream",
     "text": [
      "[6, 1, 2, 3]\n",
      "[1, 2, 3, 6]\n"
     ]
    }
   ],
   "source": [
    "## using sorted()\n",
    "\n",
    "list = [6,1,2,3]\n",
    "sorting = sorted(list)\n",
    "\n",
    "print(list)\n",
    "print(sorting)"
   ]
  },
  {
   "cell_type": "markdown",
   "id": "29d186ef-cc92-4b9c-aad9-218751c7f4ee",
   "metadata": {},
   "source": [
    "17. How do you sort a list in descending order?"
   ]
  },
  {
   "cell_type": "code",
   "execution_count": 37,
   "id": "d59f341c-2fa1-499b-9cd2-538b49a64dc7",
   "metadata": {},
   "outputs": [
    {
     "name": "stdout",
     "output_type": "stream",
     "text": [
      "[6, 3, 2, 1]\n"
     ]
    }
   ],
   "source": [
    "list = [6,1,2,3]\n",
    "list.sort(reverse=True)\n",
    "print(list)"
   ]
  },
  {
   "cell_type": "code",
   "execution_count": 40,
   "id": "c1e82f15-cf1f-456b-9bb1-19b3b02ba1d3",
   "metadata": {},
   "outputs": [
    {
     "name": "stdout",
     "output_type": "stream",
     "text": [
      "Original:  [34, 41, 67, 89]\n",
      "Descending:  [89, 67, 41, 34]\n"
     ]
    }
   ],
   "source": [
    "list = [34,41,67,89]\n",
    "descending = sorted(list,reverse=True)\n",
    "print(f\"Original: \", list)\n",
    "print(f\"Descending: \", descending)"
   ]
  },
  {
   "cell_type": "markdown",
   "id": "4710d8e5-efee-4686-99d9-c308c180a074",
   "metadata": {},
   "source": [
    "18. How do you create a new list by copying an existing list?"
   ]
  },
  {
   "cell_type": "code",
   "execution_count": 42,
   "id": "300b470e-c7a6-476d-8e8a-713f22a888bd",
   "metadata": {},
   "outputs": [
    {
     "name": "stdout",
     "output_type": "stream",
     "text": [
      "[3, 4, 5, 6]\n"
     ]
    }
   ],
   "source": [
    "## using copy()\n",
    "\n",
    "list  = [3,4,5,6]\n",
    "my_list = list.copy()\n",
    "print(my_list)"
   ]
  },
  {
   "cell_type": "code",
   "execution_count": 43,
   "id": "13e4b43b-f6d8-4f24-b89f-b1c02b4166c8",
   "metadata": {},
   "outputs": [
    {
     "name": "stdout",
     "output_type": "stream",
     "text": [
      "[3, 4, 5, 6]\n"
     ]
    }
   ],
   "source": [
    "## Using slicing\n",
    "list  = [3,4,5,6]\n",
    "original = list[:]\n",
    "print(original)"
   ]
  },
  {
   "cell_type": "markdown",
   "id": "e9447918-7969-4f38-a2d5-4415da9c9867",
   "metadata": {},
   "source": [
    "19. How do you concatenate two lists in Python?"
   ]
  },
  {
   "cell_type": "code",
   "execution_count": 48,
   "id": "f9916f89-82da-4258-a2f5-976edaa85d0b",
   "metadata": {},
   "outputs": [
    {
     "name": "stdout",
     "output_type": "stream",
     "text": [
      "[4, 5, 6, 7, 8, 9]\n"
     ]
    }
   ],
   "source": [
    "## using '+' operator\n",
    "list1 = [4,5,6]\n",
    "list2 = [7,8,9]\n",
    "two_list = list1 + list2\n",
    "print(two_list)"
   ]
  },
  {
   "cell_type": "code",
   "execution_count": 49,
   "id": "df94411f-2d88-4abb-9ae6-8a9c30797584",
   "metadata": {},
   "outputs": [
    {
     "name": "stdout",
     "output_type": "stream",
     "text": [
      "[4, 6, 7, 8, 9, 7, 2, 1]\n"
     ]
    }
   ],
   "source": [
    "## using extend()\n",
    "\n",
    "list3 = [4,6,7,8]\n",
    "list4 = [9,7,2,1]\n",
    "list3.extend(list4)\n",
    "print(list3)"
   ]
  },
  {
   "cell_type": "markdown",
   "id": "e9d0b3a5-0712-403a-a441-f8955224e4d6",
   "metadata": {},
   "source": [
    "20. How do you get a sublist (slice) from a list?"
   ]
  },
  {
   "cell_type": "code",
   "execution_count": 51,
   "id": "e9934e43-225f-4f49-99d6-d65e1229a5a9",
   "metadata": {},
   "outputs": [
    {
     "name": "stdout",
     "output_type": "stream",
     "text": [
      "[4, 5, 6, 7]\n",
      "[4, 5]\n"
     ]
    }
   ],
   "source": [
    "## simple slicing\n",
    "\n",
    "list = [4,5,6,7]\n",
    "mylist = list[0:2]\n",
    "print(list)\n",
    "print(mylist)"
   ]
  },
  {
   "cell_type": "code",
   "execution_count": 52,
   "id": "dc9792ed-e6c0-4442-8878-13259f195bd6",
   "metadata": {},
   "outputs": [
    {
     "name": "stdout",
     "output_type": "stream",
     "text": [
      "[6, 7, 8, 9, 10]\n"
     ]
    }
   ],
   "source": [
    "# Slicing from a specific start to the end:\n",
    "list = [4,5,6,7,8,9,10]\n",
    "mylist = list[2:]\n",
    "print(mylist)"
   ]
  },
  {
   "cell_type": "code",
   "execution_count": 53,
   "id": "13b1a360-4ccc-4436-9c3f-79f02b102675",
   "metadata": {},
   "outputs": [
    {
     "name": "stdout",
     "output_type": "stream",
     "text": [
      "[4, 5]\n"
     ]
    }
   ],
   "source": [
    "list = [4,5,6,7,8,9,10]\n",
    "my1list = list[:2]\n",
    "print(my1list)"
   ]
  },
  {
   "cell_type": "code",
   "execution_count": null,
   "id": "eb6a1c1c-d597-405b-b23c-92beb7cf644c",
   "metadata": {},
   "outputs": [],
   "source": []
  }
 ],
 "metadata": {
  "kernelspec": {
   "display_name": "Python 3 (ipykernel)",
   "language": "python",
   "name": "python3"
  },
  "language_info": {
   "codemirror_mode": {
    "name": "ipython",
    "version": 3
   },
   "file_extension": ".py",
   "mimetype": "text/x-python",
   "name": "python",
   "nbconvert_exporter": "python",
   "pygments_lexer": "ipython3",
   "version": "3.11.4"
  }
 },
 "nbformat": 4,
 "nbformat_minor": 5
}
