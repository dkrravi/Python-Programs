{
 "cells": [
  {
   "cell_type": "markdown",
   "id": "d19a84c1-675f-48c2-b5d3-1256c133c5da",
   "metadata": {},
   "source": [
    "### Python Interview Programs"
   ]
  },
  {
   "cell_type": "markdown",
   "id": "6b7bc24a-c48e-44aa-bc5b-58c372fe0f2b",
   "metadata": {},
   "source": [
    "1. Print \"Hello, World!\""
   ]
  },
  {
   "cell_type": "code",
   "execution_count": 2,
   "id": "5af2d605-0dcc-4e4a-8dbb-2fe02c5a49a9",
   "metadata": {},
   "outputs": [
    {
     "name": "stdout",
     "output_type": "stream",
     "text": [
      "Hello World!\n"
     ]
    }
   ],
   "source": [
    "print(\"Hello World!\")"
   ]
  },
  {
   "cell_type": "markdown",
   "id": "d1934b7d-2b65-4b96-9b76-1b077b51f2ac",
   "metadata": {},
   "source": [
    "2. Swap two numbers without using a temporary variable"
   ]
  },
  {
   "cell_type": "code",
   "execution_count": 3,
   "id": "a74f0661-d805-4ab5-be00-0513c2b1652b",
   "metadata": {},
   "outputs": [
    {
     "name": "stdout",
     "output_type": "stream",
     "text": [
      "3\n",
      "2\n"
     ]
    }
   ],
   "source": [
    "a = 2\n",
    "b = 3\n",
    "\n",
    "a = a+b\n",
    "b = a-b\n",
    "a = a-b\n",
    "\n",
    "print(a)\n",
    "print(b)"
   ]
  },
  {
   "cell_type": "markdown",
   "id": "01d1d59f-e37b-4dbb-a0cb-ce82a4ef9800",
   "metadata": {},
   "source": [
    "3. Check if a number is even or odd"
   ]
  },
  {
   "cell_type": "code",
   "execution_count": 5,
   "id": "73808bed-41bc-4589-adc3-a5edec5f2253",
   "metadata": {},
   "outputs": [
    {
     "name": "stdout",
     "output_type": "stream",
     "text": [
      "Odd\n"
     ]
    }
   ],
   "source": [
    "n = 3\n",
    "\n",
    "if n%2 == 0:\n",
    "    print(\"Even\")\n",
    "else:\n",
    "    print(\"Odd\")"
   ]
  },
  {
   "cell_type": "markdown",
   "id": "e7a62f03-884b-4d16-ae78-82a8e75fa20e",
   "metadata": {},
   "source": [
    "4. Find the factorial of a number"
   ]
  },
  {
   "cell_type": "code",
   "execution_count": 7,
   "id": "17b8e961-bd70-43a4-8045-f7c2f29d696f",
   "metadata": {},
   "outputs": [
    {
     "name": "stdout",
     "output_type": "stream",
     "text": [
      "120\n"
     ]
    }
   ],
   "source": [
    "n = 5\n",
    "f = 1\n",
    "\n",
    "for i in range(1,n+1):\n",
    "    f = f * i\n",
    "    \n",
    "print(f)"
   ]
  },
  {
   "cell_type": "code",
   "execution_count": 12,
   "id": "e3a7c6f0-00a9-4f1f-b503-5fedb4675d48",
   "metadata": {},
   "outputs": [
    {
     "name": "stdout",
     "output_type": "stream",
     "text": [
      "120\n"
     ]
    }
   ],
   "source": [
    "def fact(n):\n",
    "    if n == 0:\n",
    "        return 1\n",
    "    return n * fact(n-1)\n",
    "\n",
    "print(fact(5))"
   ]
  },
  {
   "cell_type": "markdown",
   "id": "72a0b6b5-d74f-4841-943e-f64de77fa7bf",
   "metadata": {},
   "source": [
    "5. Sum of natural numbers using recursion"
   ]
  },
  {
   "cell_type": "code",
   "execution_count": 15,
   "id": "e6ed4486-c329-4c6a-8c45-877129769b41",
   "metadata": {},
   "outputs": [
    {
     "name": "stdout",
     "output_type": "stream",
     "text": [
      "15\n"
     ]
    }
   ],
   "source": [
    "def sum_nat(n):\n",
    "    if n == 1:\n",
    "        return 1\n",
    "    return n + sum_nat(n-1)\n",
    "\n",
    "print(sum_nat(5))"
   ]
  },
  {
   "cell_type": "markdown",
   "id": "d8c6efe7-641e-45a1-8893-3d094afd76b5",
   "metadata": {},
   "source": [
    "6. Print the Fibonacci series up to n terms."
   ]
  },
  {
   "cell_type": "code",
   "execution_count": 17,
   "id": "fcf0f8be-f1af-4fba-bab5-90d32586ebda",
   "metadata": {},
   "outputs": [
    {
     "name": "stdout",
     "output_type": "stream",
     "text": [
      "0 1 1 2 3 5 "
     ]
    }
   ],
   "source": [
    "n = 6\n",
    "a,b = 0,1\n",
    "\n",
    "for i in range(n):\n",
    "    print(a, end = ' ')\n",
    "    a,b = b,a+b"
   ]
  },
  {
   "cell_type": "markdown",
   "id": "d0e6201e-873d-430e-abd9-a5d42b22495a",
   "metadata": {},
   "source": [
    "7. Find the GCD of two numbers"
   ]
  },
  {
   "cell_type": "code",
   "execution_count": 19,
   "id": "36ee93f7-7e2b-4fef-b06a-1ebc28843ff7",
   "metadata": {},
   "outputs": [
    {
     "name": "stdout",
     "output_type": "stream",
     "text": [
      "12\n"
     ]
    }
   ],
   "source": [
    "def gcd(a,b):\n",
    "    while b:\n",
    "        a,b = b, a%b\n",
    "    return a\n",
    "\n",
    "x=36\n",
    "y=60\n",
    "\n",
    "print(gcd(x,y))"
   ]
  },
  {
   "cell_type": "markdown",
   "id": "45c5b3c2-8f3c-456c-bab1-75236ee10a64",
   "metadata": {},
   "source": [
    "8. Find the LCM of two numbers"
   ]
  },
  {
   "cell_type": "code",
   "execution_count": 21,
   "id": "f4919b0e-ec66-4b5f-889d-a156dd3f62c2",
   "metadata": {},
   "outputs": [
    {
     "name": "stdout",
     "output_type": "stream",
     "text": [
      "180\n"
     ]
    }
   ],
   "source": [
    "def gcd(a,b):\n",
    "    while b:\n",
    "        a,b = b, a%b\n",
    "    return a\n",
    "    \n",
    "def lcm(a,b):\n",
    "    return abs(a*b) // gcd(a,b)\n",
    "\n",
    "x = 36\n",
    "y = 60\n",
    "\n",
    "print(lcm(x,y))"
   ]
  },
  {
   "cell_type": "markdown",
   "id": "ddc0a76b-d919-4eb4-b249-f179db31ce77",
   "metadata": {},
   "source": [
    "9. Check if a number is prime"
   ]
  },
  {
   "cell_type": "code",
   "execution_count": 1,
   "id": "fff3b357-c0cb-458b-94c8-ab4451304869",
   "metadata": {},
   "outputs": [
    {
     "name": "stdout",
     "output_type": "stream",
     "text": [
      "False\n",
      "True\n"
     ]
    }
   ],
   "source": [
    "def is_prime(n):\n",
    "    if n <= 1:\n",
    "        return False\n",
    "    if n == 2:\n",
    "        return True\n",
    "    if n % 2 == 0:\n",
    "        return False\n",
    "    for i in range(3,int(n**0.5)+1,2):\n",
    "        if n % i == 0:\n",
    "            return False\n",
    "    return True\n",
    "    \n",
    "x=16\n",
    "y=17\n",
    "print(is_prime(x))\n",
    "print(is_prime(y))"
   ]
  },
  {
   "cell_type": "markdown",
   "id": "93d91eab-80b3-4887-8c34-6985fbee7dec",
   "metadata": {},
   "source": [
    "10. Print all prime numbers in a range"
   ]
  },
  {
   "cell_type": "code",
   "execution_count": 8,
   "id": "8b7fc81c-791c-49ad-a81c-11e301352b7d",
   "metadata": {},
   "outputs": [
    {
     "name": "stdout",
     "output_type": "stream",
     "text": [
      "2 3 5 7 11 13 17 \n"
     ]
    }
   ],
   "source": [
    "def isprime(n):\n",
    "    if n<= 0:\n",
    "        return False\n",
    "    if n == 2:\n",
    "        return True\n",
    "    if n % 2 == 0:\n",
    "        return False\n",
    "    for i in range(3,int(n**0.5)+1,2):\n",
    "        if n % i == 0:\n",
    "            return False\n",
    "    return True\n",
    "\n",
    "def prime_range(start,end):\n",
    "    for i in range(start,end+1):\n",
    "        if isprime(i):         \n",
    "           print(i, end = ' ')\n",
    "    print()\n",
    "\n",
    "start = 2\n",
    "end = 17\n",
    "prime_range(start, end)"
   ]
  },
  {
   "cell_type": "markdown",
   "id": "28a02d62-60b3-4355-a9ee-3dcf79d4e9b5",
   "metadata": {},
   "source": [
    "11.  Code to Check if a Number is a Palindrome:"
   ]
  },
  {
   "cell_type": "code",
   "execution_count": 12,
   "id": "3fd23c7f-250a-4da7-80d5-132515cd8987",
   "metadata": {},
   "outputs": [
    {
     "name": "stdout",
     "output_type": "stream",
     "text": [
      "Yes\n"
     ]
    }
   ],
   "source": [
    "def is_Palindrome(n):\n",
    "    n_str =  str(n)     # converting the number into string\n",
    "    return n_str == n_str[::-1]\n",
    "\n",
    "num = 121\n",
    "\n",
    "if is_Palindrome(num):\n",
    "    print(\"Yes\")\n",
    "else:\n",
    "    print(\"No\")"
   ]
  },
  {
   "cell_type": "markdown",
   "id": "d85c70ae-2077-44b8-bfa8-66fe7347161d",
   "metadata": {},
   "source": [
    "12 . Check if a string is palindrome"
   ]
  },
  {
   "cell_type": "code",
   "execution_count": 16,
   "id": "69ff1856-6bcc-426b-9e5a-852daabf92ca",
   "metadata": {},
   "outputs": [
    {
     "name": "stdout",
     "output_type": "stream",
     "text": [
      "Yes\n"
     ]
    }
   ],
   "source": [
    "def is_Palindrome(s):\n",
    "    s =  s.replace(\" \",\"\").lower() # converting into lower case\n",
    "    return s == s[::-1]\n",
    "\n",
    "s = \"MALAYALAM\"\n",
    "\n",
    "if is_Palindrome(s):\n",
    "    print(\"Yes\")\n",
    "else:\n",
    "    print(\"No\")"
   ]
  },
  {
   "cell_type": "markdown",
   "id": "1604d2cd-0e2e-43b3-a44b-e513e7a3796e",
   "metadata": {},
   "source": [
    "13. Check if two strings are anagram or not"
   ]
  },
  {
   "cell_type": "code",
   "execution_count": 2,
   "id": "295e2a3b-1368-4e90-afb0-60ede299e193",
   "metadata": {},
   "outputs": [
    {
     "name": "stdout",
     "output_type": "stream",
     "text": [
      "Anagram\n"
     ]
    }
   ],
   "source": [
    "def is_Anagram(str1, str2):\n",
    "    str1 = str1.replace(\" \",\"\").lower()\n",
    "    str2 = str2.replace(\" \",\"\").lower()\n",
    "\n",
    "    return sorted(str1) == sorted(str2)\n",
    "\n",
    "string1 = 'silent'\n",
    "string2 = 'listen'\n",
    "\n",
    "if is_Anagram(string1,string2):\n",
    "    print(\"Anagram\")\n",
    "else:\n",
    "    print(\"Not Anagram\")"
   ]
  },
  {
   "cell_type": "markdown",
   "id": "7f8d9fa5-4dc8-4fd5-89b0-82607aa6a154",
   "metadata": {},
   "source": [
    "14 . Count the number of digits in a number"
   ]
  },
  {
   "cell_type": "code",
   "execution_count": 1,
   "id": "9281545c-7475-48ff-8ed7-30c98d100183",
   "metadata": {},
   "outputs": [
    {
     "name": "stdout",
     "output_type": "stream",
     "text": [
      "4\n"
     ]
    }
   ],
   "source": [
    "def count_digits(n):\n",
    "    n = abs(n)\n",
    "    count = 0\n",
    "    \n",
    "    if n == 0:\n",
    "        return 1\n",
    "    while n > 0:\n",
    "        n = n // 10\n",
    "        count += 1\n",
    "    return count\n",
    "\n",
    "num = 1235\n",
    "print(count_digits(num))\n"
   ]
  },
  {
   "cell_type": "markdown",
   "id": "1d71076e-07e9-47a5-a22e-c7acbea73a56",
   "metadata": {},
   "source": [
    "15. Sum of digits of a number"
   ]
  },
  {
   "cell_type": "code",
   "execution_count": 3,
   "id": "8f9f4aee-0e1e-41c5-985d-3ee0b1a9dec3",
   "metadata": {},
   "outputs": [
    {
     "name": "stdout",
     "output_type": "stream",
     "text": [
      "15\n"
     ]
    }
   ],
   "source": [
    "def total(n):\n",
    "    n = abs(n)\n",
    "    total = 0\n",
    "\n",
    "    if n == 0:\n",
    "        return 1\n",
    "    while n > 0:\n",
    "        total += n % 10\n",
    "        n = n // 10\n",
    "    return total\n",
    "\n",
    "print(total(12345))\n",
    "    "
   ]
  },
  {
   "cell_type": "markdown",
   "id": "514e7141-7404-4e51-a99e-597d4f2a233d",
   "metadata": {},
   "source": [
    "16. Reverse a number"
   ]
  },
  {
   "cell_type": "code",
   "execution_count": 2,
   "id": "2ccd373f-3ce7-4f1d-9e24-6ae10a618927",
   "metadata": {},
   "outputs": [
    {
     "name": "stdout",
     "output_type": "stream",
     "text": [
      "4321\n"
     ]
    }
   ],
   "source": [
    "def rev(n):                       ## using string conversion\n",
    "    return int(str(n)[::-1])\n",
    "\n",
    "n = 1234\n",
    "print(rev(n))"
   ]
  },
  {
   "cell_type": "code",
   "execution_count": 13,
   "id": "cbf4568e-e0de-46a6-85de-6792a55b06ee",
   "metadata": {},
   "outputs": [
    {
     "name": "stdout",
     "output_type": "stream",
     "text": [
      "54321\n"
     ]
    }
   ],
   "source": [
    "def reversed_num(n):\n",
    "    reverse = 0\n",
    "    while n > 0:\n",
    "        digit = n % 10\n",
    "        reverse =  reverse * 10 + digit\n",
    "        n //= 10\n",
    "    return reverse\n",
    "\n",
    "num = 12345\n",
    "print(reversed_num(num))"
   ]
  },
  {
   "cell_type": "markdown",
   "id": "0f996712-ec50-4f29-844e-be4a15ee072b",
   "metadata": {},
   "source": [
    "17. Program to Check if a Number is Armstrong:"
   ]
  },
  {
   "cell_type": "code",
   "execution_count": 14,
   "id": "64b6df47-e972-4a0b-a111-56c26f30016d",
   "metadata": {},
   "outputs": [
    {
     "name": "stdout",
     "output_type": "stream",
     "text": [
      "Yes\n"
     ]
    }
   ],
   "source": [
    "def is_Armstrong(n):\n",
    "    n_str = str(n)\n",
    "    power  =  len(n_str)\n",
    "    total = sum(int(digit) ** power for digit in n_str)\n",
    "    return total == n\n",
    "\n",
    "num = 153\n",
    "\n",
    "if is_Armstrong(num):\n",
    "    print(\"Yes\")\n",
    "else:\n",
    "    print(\"No\")"
   ]
  },
  {
   "cell_type": "markdown",
   "id": "c34d6d58-eeb6-4480-bf02-32684003e1f7",
   "metadata": {},
   "source": [
    "18. Recursive Fibonacci Function --  Nth Fibonacci number "
   ]
  },
  {
   "cell_type": "code",
   "execution_count": 15,
   "id": "a89bc6f1-e05c-4601-8405-9e8810401189",
   "metadata": {},
   "outputs": [
    {
     "name": "stdout",
     "output_type": "stream",
     "text": [
      "13\n"
     ]
    }
   ],
   "source": [
    "def fibonacci(n):\n",
    "    if n <= 0:\n",
    "        return \"Invalid\"\n",
    "    elif n == 1:\n",
    "        return 1\n",
    "    elif n == 2:\n",
    "        return 1\n",
    "    else:\n",
    "        return fibonacci(n-1) + fibonacci(n-2)\n",
    "\n",
    "n = 7\n",
    "print(fibonacci(n)) # The number 13 occur as 7th number"
   ]
  },
  {
   "cell_type": "markdown",
   "id": "5745edee-4110-4cfa-9a37-d196453d7381",
   "metadata": {},
   "source": [
    "19 . Fiboanncu using recursion"
   ]
  },
  {
   "cell_type": "code",
   "execution_count": 18,
   "id": "5c210fec-41e6-407d-add2-f6944d69cd76",
   "metadata": {},
   "outputs": [
    {
     "name": "stdout",
     "output_type": "stream",
     "text": [
      "0 1 1 2 "
     ]
    }
   ],
   "source": [
    "def fibonacci(n):\n",
    "    if n == 0:\n",
    "        return 0\n",
    "    elif n == 1:\n",
    "        return 1\n",
    "    else:\n",
    "        return fibonacci(n-1) + fibonacci(n-2)\n",
    "\n",
    "num = 4\n",
    "\n",
    "for i in range(num):\n",
    "    print(fibonacci(i),end = ' ')"
   ]
  },
  {
   "cell_type": "markdown",
   "id": "2ff3014d-352b-470a-989a-068500f1673b",
   "metadata": {},
   "source": [
    "20. Count vowels and consonants in a string"
   ]
  },
  {
   "cell_type": "code",
   "execution_count": 1,
   "id": "f6ee91d7-158e-4a3a-b1a7-6fe2278e44a9",
   "metadata": {},
   "outputs": [
    {
     "name": "stdout",
     "output_type": "stream",
     "text": [
      "The no of vowels :  3\n",
      "The no of consonants:  7\n"
     ]
    }
   ],
   "source": [
    "def count_vowels_constants(s):\n",
    "    s = s.lower()\n",
    "    vowels = 'aeiou'\n",
    "    v_count = 0\n",
    "    c_count = 0\n",
    "\n",
    "    for char in s:\n",
    "        if char.isalpha():\n",
    "            if char in vowels:\n",
    "                v_count += 1\n",
    "            else:\n",
    "                c_count +=1\n",
    "    return v_count,c_count\n",
    "\n",
    "text = \"Hello World\"\n",
    "v_count,c_count = count_vowels_constants(text)\n",
    "print(f\"The no of vowels : \", v_count)\n",
    "print(f\"The no of consonants: \",c_count)"
   ]
  },
  {
   "cell_type": "markdown",
   "id": "1f9c4021-8b7d-4a03-8d07-e1abb58737ce",
   "metadata": {},
   "source": [
    "21. Remove all vowels from a string"
   ]
  },
  {
   "cell_type": "code",
   "execution_count": 2,
   "id": "d7642e88-c548-4b84-8da4-167325748aed",
   "metadata": {},
   "outputs": [
    {
     "name": "stdout",
     "output_type": "stream",
     "text": [
      "Dhny\n"
     ]
    }
   ],
   "source": [
    "def remove(s):\n",
    "    vowels = 'aeiouAEIOU'\n",
    "    result = ''\n",
    "\n",
    "    for char in s:\n",
    "        if char not in vowels:\n",
    "            result += char\n",
    "    return result\n",
    "\n",
    "text = \"Dhanya\"\n",
    "result = remove(text)\n",
    "print(result)"
   ]
  },
  {
   "cell_type": "markdown",
   "id": "d972031e-e3b0-4b9c-84c2-fee0abe56ab5",
   "metadata": {},
   "source": [
    "22. Remove duplicate characters from a string"
   ]
  },
  {
   "cell_type": "code",
   "execution_count": 5,
   "id": "6d8cfa7e-0a66-4551-bec1-ee329280fa35",
   "metadata": {},
   "outputs": [
    {
     "name": "stdout",
     "output_type": "stream",
     "text": [
      "race\n"
     ]
    }
   ],
   "source": [
    "def remove_duplicates(s):\n",
    "    result = ''\n",
    "    seen = set()\n",
    "\n",
    "    for char in s:\n",
    "        if char not in seen:\n",
    "            result += char\n",
    "            seen.add(char)\n",
    "    return result\n",
    "\n",
    "text = \"racecar\"\n",
    "result = remove_duplicates(text)\n",
    "print(result)"
   ]
  },
  {
   "cell_type": "markdown",
   "id": "ab346402-e7af-426e-a199-fdf964ffa283",
   "metadata": {},
   "source": [
    "23. Two Sum Leetcode"
   ]
  },
  {
   "cell_type": "code",
   "execution_count": 6,
   "id": "704b3481-c97a-4a45-80f6-7f8cde2f05c9",
   "metadata": {},
   "outputs": [
    {
     "name": "stdout",
     "output_type": "stream",
     "text": [
      "[0, 1]\n"
     ]
    }
   ],
   "source": [
    "def two_sum(nums,target):\n",
    "    seen = {}\n",
    "    for i in range(len(nums)):\n",
    "        num = nums[i]\n",
    "        diff = target - num\n",
    "\n",
    "        if diff in seen:\n",
    "            return [seen[diff],i]\n",
    "        seen[num] = i\n",
    "    return []\n",
    "nums = [2,7,12,13]\n",
    "target = 9\n",
    "print(two_sum(nums,target))"
   ]
  }
 ],
 "metadata": {
  "kernelspec": {
   "display_name": "Python 3 (ipykernel)",
   "language": "python",
   "name": "python3"
  },
  "language_info": {
   "codemirror_mode": {
    "name": "ipython",
    "version": 3
   },
   "file_extension": ".py",
   "mimetype": "text/x-python",
   "name": "python",
   "nbconvert_exporter": "python",
   "pygments_lexer": "ipython3",
   "version": "3.11.4"
  }
 },
 "nbformat": 4,
 "nbformat_minor": 5
}
