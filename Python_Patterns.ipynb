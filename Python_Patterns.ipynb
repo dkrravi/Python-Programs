{
 "cells": [
  {
   "cell_type": "markdown",
   "id": "53d7aea0-ce4b-4b64-b93b-0e43013708e9",
   "metadata": {},
   "source": [
    "#### Square Pattern"
   ]
  },
  {
   "cell_type": "code",
   "execution_count": 6,
   "id": "f85b1e26-4214-41c2-958d-58ae828aabb2",
   "metadata": {},
   "outputs": [
    {
     "name": "stdout",
     "output_type": "stream",
     "text": [
      "* * * * * \n",
      "* * * * * \n",
      "* * * * * \n",
      "* * * * * \n",
      "* * * * * \n"
     ]
    }
   ],
   "source": [
    "n=5\n",
    "for i in range(n):\n",
    "    for j in range(n):\n",
    "        print('*', end = ' ')\n",
    "    print('')"
   ]
  },
  {
   "cell_type": "markdown",
   "id": "9eb9c0c7-a59a-4e73-ad08-af442a3a3df9",
   "metadata": {},
   "source": [
    "#### Right-Angled Triangle Pattern ( (Half-Pyramid))"
   ]
  },
  {
   "cell_type": "code",
   "execution_count": 1,
   "id": "e879dbe3-0b40-4fc4-af19-903324ab67e7",
   "metadata": {},
   "outputs": [
    {
     "name": "stdout",
     "output_type": "stream",
     "text": [
      "* \n",
      "* * \n",
      "* * * \n",
      "* * * * \n",
      "* * * * * \n"
     ]
    }
   ],
   "source": [
    "n=5\n",
    "for i in range(n):\n",
    "    for j in range(i+1):\n",
    "        print('*',end = ' ')\n",
    "    print('')"
   ]
  },
  {
   "cell_type": "markdown",
   "id": "589889c1-7342-4a89-8944-d644bb1eef26",
   "metadata": {},
   "source": [
    "#### Inverted Right-Angled Triangle Pattern ((Inverted Half-Pyramid))"
   ]
  },
  {
   "cell_type": "code",
   "execution_count": 5,
   "id": "6d804898-831a-4758-b31f-c937312f49fb",
   "metadata": {},
   "outputs": [
    {
     "name": "stdout",
     "output_type": "stream",
     "text": [
      "* * * * * \n",
      "* * * * \n",
      "* * * \n",
      "* * \n",
      "* \n"
     ]
    }
   ],
   "source": [
    "n = 5\n",
    "for i in range(n):\n",
    "    for j in range(i,n):\n",
    "        print('*', end = ' ')\n",
    "    print('')"
   ]
  },
  {
   "cell_type": "markdown",
   "id": "59da9f56-1cf8-4b2e-85e6-78bd945dcb88",
   "metadata": {},
   "source": [
    "#### Right-Angled Triangle Pattern with Leading Spaces"
   ]
  },
  {
   "cell_type": "code",
   "execution_count": 7,
   "id": "ec72f2bf-5cd6-4bf7-bb15-487a05bd27b6",
   "metadata": {},
   "outputs": [
    {
     "name": "stdout",
     "output_type": "stream",
     "text": [
      "* * * * * \n",
      "  * * * * \n",
      "    * * * \n",
      "      * * \n",
      "        * \n"
     ]
    }
   ],
   "source": [
    "n=5\n",
    "for i in range(n):\n",
    "    for j in range(i):\n",
    "        print(' ' ,end = ' ')\n",
    "    for j in range(n-i):\n",
    "        print('*',end = ' ')\n",
    "    print('')"
   ]
  },
  {
   "cell_type": "code",
   "execution_count": 8,
   "id": "c018e136-d7a3-4a13-bf01-678b4480a8f8",
   "metadata": {},
   "outputs": [
    {
     "name": "stdout",
     "output_type": "stream",
     "text": [
      "        * \n",
      "      * * \n",
      "    * * * \n",
      "  * * * * \n",
      "* * * * * \n"
     ]
    }
   ],
   "source": [
    "n=5\n",
    "for i in range(n):\n",
    "    for j in range(n-i-1):\n",
    "        print(\" \",end=' ')\n",
    "    for j in range(i+1):\n",
    "        print(\"*\",end=' ')\n",
    "    print()\n"
   ]
  },
  {
   "cell_type": "markdown",
   "id": "facf4ad6-4fd9-421e-b580-6bdf18ccba0f",
   "metadata": {},
   "source": [
    "#### Pyramid Pattern"
   ]
  },
  {
   "cell_type": "code",
   "execution_count": 9,
   "id": "3c8d9b6f-b0af-4a1a-8305-5cd019d61009",
   "metadata": {},
   "outputs": [
    {
     "name": "stdout",
     "output_type": "stream",
     "text": [
      "    *\n",
      "   ***\n",
      "  *****\n",
      " *******\n",
      "*********\n"
     ]
    }
   ],
   "source": [
    "n = 5\n",
    "for i in range(n):\n",
    "    for j in range(n - i - 1):\n",
    "        print(' ', end='')\n",
    "    for j in range(2 * i + 1):\n",
    "        print('*', end='')\n",
    "    print()\n"
   ]
  },
  {
   "cell_type": "markdown",
   "id": "d7676685-753d-472a-9e75-b48702b3f987",
   "metadata": {},
   "source": [
    "#### Diamond Pattern."
   ]
  },
  {
   "cell_type": "code",
   "execution_count": 10,
   "id": "489c32e2-dde5-49de-ac7e-e5ab1caccf6a",
   "metadata": {},
   "outputs": [
    {
     "name": "stdout",
     "output_type": "stream",
     "text": [
      "    *\n",
      "   ***\n",
      "  *****\n",
      " *******\n",
      "*********\n",
      " *******\n",
      "  *****\n",
      "   ***\n",
      "    *\n"
     ]
    }
   ],
   "source": [
    "n = 5\n",
    "# Upper half\n",
    "for i in range(n):\n",
    "    for j in range(n - i - 1):\n",
    "        print(' ', end='')\n",
    "    for j in range(2 * i + 1):\n",
    "        print('*', end='')\n",
    "    print()\n",
    "# Lower half\n",
    "for i in range(n - 2, -1, -1):\n",
    "    for j in range(n - i - 1):\n",
    "        print(' ', end='')\n",
    "    for j in range(2 * i + 1):\n",
    "        print('*', end='')\n",
    "    print()"
   ]
  },
  {
   "cell_type": "markdown",
   "id": "c04123b1-d285-4648-bba9-daf767b4122c",
   "metadata": {},
   "source": [
    "#### Inverted Triangle"
   ]
  },
  {
   "cell_type": "code",
   "execution_count": 14,
   "id": "36c82b92-a225-46c8-a639-7bc5d849b0e1",
   "metadata": {},
   "outputs": [
    {
     "name": "stdout",
     "output_type": "stream",
     "text": [
      "*********\n",
      " *******\n",
      "  *****\n",
      "   ***\n",
      "    *\n"
     ]
    }
   ],
   "source": [
    "n = 5\n",
    "\n",
    "for i in range(n):\n",
    "    for j in range(i):\n",
    "        print(' ', end='')\n",
    "    for j in range(2 * (n - i) - 1):\n",
    "        print('*', end='')\n",
    "    print()\n"
   ]
  },
  {
   "cell_type": "code",
   "execution_count": null,
   "id": "867e3527-22f3-4caf-96ee-844243821f29",
   "metadata": {},
   "outputs": [],
   "source": []
  },
  {
   "cell_type": "code",
   "execution_count": null,
   "id": "3407067c-f8da-4c77-a8e7-560b3d0cbfc8",
   "metadata": {},
   "outputs": [],
   "source": []
  }
 ],
 "metadata": {
  "kernelspec": {
   "display_name": "Python 3 (ipykernel)",
   "language": "python",
   "name": "python3"
  },
  "language_info": {
   "codemirror_mode": {
    "name": "ipython",
    "version": 3
   },
   "file_extension": ".py",
   "mimetype": "text/x-python",
   "name": "python",
   "nbconvert_exporter": "python",
   "pygments_lexer": "ipython3",
   "version": "3.11.4"
  }
 },
 "nbformat": 4,
 "nbformat_minor": 5
}
