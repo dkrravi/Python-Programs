{
 "cells": [
  {
   "cell_type": "markdown",
   "id": "aab5990a-01d7-4a71-871f-75b54de48695",
   "metadata": {},
   "source": [
    "1. Create a class Student with attributes name and roll_no. Create two objects and print their details.\n"
   ]
  },
  {
   "cell_type": "code",
   "execution_count": 2,
   "id": "04b0fa79-bfc4-4f1d-959c-c448b0a68f44",
   "metadata": {},
   "outputs": [
    {
     "name": "stdout",
     "output_type": "stream",
     "text": [
      "-----Student 1------\n",
      "Name:  Alice\n",
      "Rollno:  20\n",
      "-----Student 2------\n",
      "Name:  Bob\n",
      "Rollno:  23\n"
     ]
    }
   ],
   "source": [
    "class student:\n",
    "    def __init__(self,name,rollno):\n",
    "        self.name = name\n",
    "        self.rollno = rollno\n",
    "\n",
    "s1 = student('Alice',20)\n",
    "s2 = student('Bob',23)\n",
    "\n",
    "print(\"-----Student 1------\")\n",
    "print(\"Name: \" , s1.name)\n",
    "print(\"Rollno: \" ,s1.rollno)\n",
    "\n",
    "print(\"-----Student 2------\")\n",
    "print(\"Name: \" , s2.name)\n",
    "print(\"Rollno: \" ,s2.rollno)"
   ]
  },
  {
   "cell_type": "markdown",
   "id": "e35d81d2-f366-401c-a8ef-6dfe1379e7cd",
   "metadata": {},
   "source": [
    "2. Write a class Circle with a method to calculate the area. Take radius as input during object creation."
   ]
  },
  {
   "cell_type": "code",
   "execution_count": 3,
   "id": "014ba7b6-8d54-4368-9181-1640ff133f4f",
   "metadata": {},
   "outputs": [
    {
     "name": "stdout",
     "output_type": "stream",
     "text": [
      "Radius :  5\n",
      "Area of circle:  78.53981633974483\n"
     ]
    }
   ],
   "source": [
    "import math\n",
    "class Circle:\n",
    "    def __init__(self,radius):\n",
    "        self.radius = radius\n",
    "    def area(self):\n",
    "        return math.pi * self.radius ** 2\n",
    "\n",
    "c = Circle(5)\n",
    "\n",
    "print(\"Radius : \", c.radius)\n",
    "print(\"Area of circle: \",c.area())"
   ]
  },
  {
   "cell_type": "markdown",
   "id": "7a03f3d2-411c-41fa-b3c2-d12851e68c55",
   "metadata": {},
   "source": [
    "3. Create a class Rectangle with methods to calculate area and perimeter.\n"
   ]
  },
  {
   "cell_type": "code",
   "execution_count": 6,
   "id": "cc3004e4-c3b4-4eea-a500-0cfc2378818d",
   "metadata": {},
   "outputs": [
    {
     "name": "stdout",
     "output_type": "stream",
     "text": [
      "Area of rectangle:  288\n",
      "Perimeter of rectangle:  72\n"
     ]
    }
   ],
   "source": [
    "class Rectangle:\n",
    "    def __init__(self,length,breadth):\n",
    "        self.length = length\n",
    "        self.breadth = breadth\n",
    "    def area(self):\n",
    "        return self.length * self.breadth\n",
    "    def perimeter(self):\n",
    "        return 2 * (self.length + self.breadth)\n",
    "\n",
    "a = Rectangle(24,12)\n",
    "\n",
    "print(\"Area of rectangle: \",a.area())\n",
    "print(\"Perimeter of rectangle: \",a.perimeter())"
   ]
  },
  {
   "cell_type": "markdown",
   "id": "318d1897-5a3e-4f96-bffe-16cc2179834f",
   "metadata": {},
   "source": [
    "4. Create a class Employee that takes name and salary as parameters. Use the constructor to initialize."
   ]
  },
  {
   "cell_type": "code",
   "execution_count": 7,
   "id": "fabebe1f-ac86-4366-963f-fa02b8f1ae44",
   "metadata": {},
   "outputs": [
    {
     "name": "stdout",
     "output_type": "stream",
     "text": [
      "----Employee 1-----\n",
      "Name: Alia, Salary : 25000 \n",
      "----Employee 2-----\n",
      "Name: Sathan, Salary : 26000 \n"
     ]
    }
   ],
   "source": [
    "class Employee:\n",
    "    def __init__(self,name,salary):\n",
    "        self.name = name\n",
    "        self.salary = salary\n",
    "\n",
    "    def display(self):\n",
    "        print(f\"Name: {self.name}, Salary : {self.salary} \")\n",
    "\n",
    "e1 = Employee(\"Alia\",25000)\n",
    "e2 = Employee(\"Sathan\",26000)\n",
    "\n",
    "print(\"----Employee 1-----\")\n",
    "e1.display()\n",
    "\n",
    "print(\"----Employee 2-----\")\n",
    "e2.display()"
   ]
  },
  {
   "cell_type": "markdown",
   "id": "7dcbb049-4d33-47f4-ac4c-a14f18724e75",
   "metadata": {},
   "source": [
    "5 . Create a class Book that takes title, author, and price and has a method display() to print all info."
   ]
  },
  {
   "cell_type": "code",
   "execution_count": 3,
   "id": "01022051-ded9-4f06-af48-b7f0303b2d52",
   "metadata": {},
   "outputs": [
    {
     "name": "stdout",
     "output_type": "stream",
     "text": [
      "-----Books Info-------\n",
      "Name: Wings of Fire, Author: AJP, Price :2300\n",
      "Name: Harry Potter, Author: JK Rowling, Price :2000\n"
     ]
    }
   ],
   "source": [
    "class Book:\n",
    "    def __init__(self,title,author,price):\n",
    "        self.title = title\n",
    "        self.author = author\n",
    "        self.price = price\n",
    "\n",
    "    def display(self):\n",
    "        print(f\"Name: {self.title}, Author: {self.author}, Price :{self.price}\")\n",
    "\n",
    "b1 = Book('Wings of Fire','AJP',2300)\n",
    "b2 = Book('Harry Potter','JK Rowling',2000)\n",
    "\n",
    "print('-----Books Info-------')\n",
    "b1.display()\n",
    "b2.display()"
   ]
  },
  {
   "cell_type": "markdown",
   "id": "b9640382-3548-4d1f-bba6-76e4a6e9500e",
   "metadata": {},
   "source": [
    "## Encapsulation\n"
   ]
  },
  {
   "cell_type": "markdown",
   "id": "b7ee67db-5151-4b81-ae0d-9df16ab3a411",
   "metadata": {},
   "source": [
    "6. Create a class BankAccount with a private attribute balance. Add methods deposit() and withdraw()."
   ]
  },
  {
   "cell_type": "code",
   "execution_count": 7,
   "id": "6541728f-9f3d-4997-8835-1e779764ebf2",
   "metadata": {},
   "outputs": [
    {
     "name": "stdout",
     "output_type": "stream",
     "text": [
      "No sufficient balance\n",
      "Balance:  1400\n"
     ]
    }
   ],
   "source": [
    "class BankAccount:\n",
    "    def __init__(self,initial_balance = 0):\n",
    "        self.__balance = initial_balance\n",
    "\n",
    "    def deposit(self,amount):\n",
    "        if amount > 0:\n",
    "            self.__balance  += amount\n",
    "        else:\n",
    "            print(\"Number should be positive\")\n",
    "\n",
    "    def withdraw(self,amount):\n",
    "        if 0 < amount <= self.__balance:\n",
    "            self.__balance -= amount\n",
    "        else:\n",
    "            print(\"No sufficient balance\")\n",
    "\n",
    "    def getbalance(self):\n",
    "        return self.__balance\n",
    "\n",
    "b = BankAccount(1000)\n",
    "\n",
    "b.deposit(500)\n",
    "b.withdraw(100)\n",
    "b.withdraw(2000)\n",
    "\n",
    "print(\"Balance: \", b.getbalance())"
   ]
  },
  {
   "cell_type": "markdown",
   "id": "3e684ff8-fd35-4e29-9ae5-f1172e07419a",
   "metadata": {},
   "source": [
    "7. Create a class StudentMarks with a private attribute __marks. Add methods:\n",
    "   \n",
    "   set_marks(marks) to assign value to marks (only if it's between 0 and 100),\n",
    "   get_marks() to return the current marks."
   ]
  },
  {
   "cell_type": "code",
   "execution_count": 11,
   "id": "3f6279ad-acc8-40b6-9bcc-648fb0ee4b50",
   "metadata": {},
   "outputs": [
    {
     "name": "stdout",
     "output_type": "stream",
     "text": [
      "Invalid\n",
      "Student 1 Marks:  89\n",
      "Student 2 Marks:  0\n"
     ]
    }
   ],
   "source": [
    "class StudentMarks:\n",
    "    def __init__(self):\n",
    "        self.__marks = 0\n",
    "\n",
    "    def set_marks(self,marks):\n",
    "        if 0 <= marks <= 100:\n",
    "            self.__marks = marks\n",
    "        else:\n",
    "            print(\"Invalid\")\n",
    "\n",
    "    def get_marks(self):\n",
    "        return self.__marks\n",
    "\n",
    "s1 = StudentMarks()\n",
    "s2 = StudentMarks()\n",
    "\n",
    "s1.set_marks(89)\n",
    "s2.set_marks(103)\n",
    "\n",
    "print(\"Student 1 Marks: \", s1.get_marks())\n",
    "print(\"Student 2 Marks: \", s2.get_marks())"
   ]
  },
  {
   "cell_type": "markdown",
   "id": "8a557005-930b-4b33-8931-1e408875f2cc",
   "metadata": {},
   "source": [
    "8. Create a class Person and make the age attribute private. Provide getter and setter methods."
   ]
  },
  {
   "cell_type": "code",
   "execution_count": 15,
   "id": "cb069cf0-a36d-4408-a99f-cdb763717daa",
   "metadata": {},
   "outputs": [
    {
     "name": "stdout",
     "output_type": "stream",
     "text": [
      "34\n",
      "45\n"
     ]
    }
   ],
   "source": [
    "class Person:\n",
    "    def __init__(self,age):\n",
    "        self.__age = age\n",
    "\n",
    "    def get_age(self):\n",
    "        return self.__age\n",
    "\n",
    "    def set_age(self,age):\n",
    "        if age > 0:\n",
    "            self.__age = age\n",
    "        else:\n",
    "            print(\"Invalid\")\n",
    "\n",
    "s1 = Person(45)\n",
    "s2 = Person(76)\n",
    "\n",
    "s1.set_age(34)\n",
    "s2.set_age(45)\n",
    "\n",
    "print(s1.get_age())\n",
    "print(s2.get_age())"
   ]
  },
  {
   "cell_type": "markdown",
   "id": "6ff20906-4cf5-4d73-a2be-c067607c1c2f",
   "metadata": {},
   "source": [
    "## Inheritance\n"
   ]
  },
  {
   "cell_type": "markdown",
   "id": "7d44b224-558c-4597-a6a0-1f8d2cdbd124",
   "metadata": {},
   "source": [
    "9. Create a base class Vehicle and derived classes Car and Bike. Each should have a method details()."
   ]
  },
  {
   "cell_type": "code",
   "execution_count": 19,
   "id": "a771e38d-60f1-4a08-a2a2-4812c3f4e33f",
   "metadata": {},
   "outputs": [
    {
     "name": "stdout",
     "output_type": "stream",
     "text": [
      "Model: Mahindra , Name: BMW , Price : 230000 \n",
      "Seats: 10 \n",
      "Model: Scooty , Name: Streak , Price : 350000 \n",
      "CC:  89\n"
     ]
    }
   ],
   "source": [
    "class Vehicle:\n",
    "    def __init__(self, model,name,price):\n",
    "        self.model = model\n",
    "        self.name = name\n",
    "        self.price = price\n",
    "        \n",
    "    def display(self):\n",
    "        print(f\"Model: {self.model} , Name: {self.name} , Price : {self.price} \")\n",
    "\n",
    "class Car(Vehicle):\n",
    "    def __init__(self,model,name,price,seats):\n",
    "        super().__init__(model,name,price)\n",
    "        self.seats = seats\n",
    "\n",
    "    def display(self):\n",
    "        super().display()\n",
    "        print(f\"Seats: {self.seats} \" )\n",
    "\n",
    "class Bike(Vehicle):\n",
    "    def __init__(self,model,name,price,cc):\n",
    "        super().__init__(model,name,price)\n",
    "        self.cc = cc\n",
    "\n",
    "    def display(self):\n",
    "        super().display()\n",
    "        print(f\"CC:  {self.cc}\")\n",
    "\n",
    "c = Car('Mahindra','BMW',230000,10)\n",
    "b = Bike('Scooty','Streak',350000,89)\n",
    "\n",
    "c.display()\n",
    "b.display()\n",
    "    "
   ]
  },
  {
   "cell_type": "markdown",
   "id": "c636e24a-41be-46da-9017-13dca1b5cfaa",
   "metadata": {},
   "source": [
    "10. Write a class Animal with a method sound(). Create a subclass Dog that overrides the method."
   ]
  },
  {
   "cell_type": "code",
   "execution_count": 20,
   "id": "a8677912-4993-4e5e-81ba-0a4f04895105",
   "metadata": {},
   "outputs": [
    {
     "name": "stdout",
     "output_type": "stream",
     "text": [
      "The animal makes sound\n",
      "The dog barks\n"
     ]
    }
   ],
   "source": [
    "class Animal:\n",
    "    def sound(self):\n",
    "        print(\"The animal makes sound\")\n",
    "\n",
    "class Dog(Animal):\n",
    "    def sound(self):\n",
    "        print(\"The dog barks\")\n",
    "\n",
    "animal = Animal()\n",
    "dog = Dog()\n",
    "\n",
    "animal.sound()\n",
    "dog.sound()"
   ]
  },
  {
   "cell_type": "markdown",
   "id": "e9917175-b600-4e9f-946f-ff778b3cc005",
   "metadata": {},
   "source": [
    "11. Implement multilevel inheritance: Grandparent → Parent → Child, each with a method display().\n"
   ]
  },
  {
   "cell_type": "code",
   "execution_count": 23,
   "id": "d47161a7-2dc0-4fb5-a5cc-e44ec77456b1",
   "metadata": {},
   "outputs": [
    {
     "name": "stdout",
     "output_type": "stream",
     "text": [
      "I am the GrandParent\n",
      "I am the Parent\n",
      "I am the Child\n"
     ]
    }
   ],
   "source": [
    "class Grandparent:\n",
    "    def display(self):\n",
    "        print(\"I am the GrandParent\")\n",
    "\n",
    "class Parent(Grandparent):\n",
    "    def display(self):\n",
    "        print(\"I am the Parent\")\n",
    "\n",
    "class Child(Parent):\n",
    "    def display(self):\n",
    "        print(\"I am the Child\")\n",
    "\n",
    "a = Grandparent()\n",
    "b = Parent()\n",
    "c = Child()\n",
    "\n",
    "a.display()\n",
    "b.display()\n",
    "c.display()"
   ]
  }
 ],
 "metadata": {
  "kernelspec": {
   "display_name": "Python 3 (ipykernel)",
   "language": "python",
   "name": "python3"
  },
  "language_info": {
   "codemirror_mode": {
    "name": "ipython",
    "version": 3
   },
   "file_extension": ".py",
   "mimetype": "text/x-python",
   "name": "python",
   "nbconvert_exporter": "python",
   "pygments_lexer": "ipython3",
   "version": "3.11.4"
  }
 },
 "nbformat": 4,
 "nbformat_minor": 5
}
